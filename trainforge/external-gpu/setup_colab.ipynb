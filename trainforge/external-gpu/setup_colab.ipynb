{
  "cells": [
    {
      "cell_type": "markdown",
      "metadata": {
        "id": "view-in-github"
      },
      "source": [
        "# 🚀 TrainForge External GPU Worker - Google Colab\n",
        "\n",
        "This notebook connects your Google Colab GPU to your local TrainForge instance.\n",
        "\n",
        "## Setup Steps:\n",
        "1. **Enable GPU**: Runtime → Change runtime type → GPU (T4, V100, or A100)\n",
        "2. **Expose your local TrainForge**: Use ngrok or localtunnel\n",
        "3. **Run this notebook**\n",
        "\n",
        "---"
      ]
    },
    {
      "cell_type": "markdown",
      "metadata": {},
      "source": [
        "## Step 1: Check GPU Availability"
      ]
    },
    {
      "cell_type": "code",
      "execution_count": null,
      "metadata": {},
      "outputs": [],
      "source": [
        "import torch\n",
        "import subprocess\n",
        "\n",
        "print(\"🔍 Checking GPU availability...\")\n",
        "\n",
        "if torch.cuda.is_available():\n",
        "    gpu_name = torch.cuda.get_device_name(0)\n",
        "    gpu_memory = torch.cuda.get_device_properties(0).total_memory // 1024**3\n",
        "    print(f\"✅ GPU Available: {gpu_name}\")\n",
        "    print(f\"💾 GPU Memory: {gpu_memory}GB\")\n",
        "    print(f\"🔧 CUDA Version: {torch.version.cuda}\")\n",
        "    print(f\"🐍 PyTorch Version: {torch.__version__}\")\n",
        "else:\n",
        "    print(\"❌ No GPU available - Please enable GPU in Runtime settings\")\n",
        "\n",
        "# Show nvidia-smi output\n",
        "try:\n",
        "    result = subprocess.run(['nvidia-smi'], capture_output=True, text=True)\n",
        "    print(\"\\n📊 nvidia-smi output:\")\n",
        "    print(result.stdout)\n",
        "except:\n",
        "    print(\"⚠️ nvidia-smi not available\")"
      ]
    },
    {
      "cell_type": "markdown",
      "metadata": {},
      "source": [
        "## Step 2: Install Dependencies"
      ]
    },
    {
      "cell_type": "code",
      "execution_count": null,
      "metadata": {},
      "outputs": [],
      "source": [
        "# Install required packages\n",
        "!pip install requests zipfile36 pathlib\n",
        "\n",
        "print(\"✅ Dependencies installed\")"
      ]
    },
    {
      "cell_type": "markdown",
      "metadata": {},
      "source": [
        "## Step 3: Download TrainForge Worker"
      ]
    },
    {
      "cell_type": "code",
      "execution_count": null,
      "metadata": {},
      "outputs": [],
      "source": [
        "import requests\n",
        "from pathlib import Path\n",
        "\n",
        "# Download the worker script\n",
        "worker_url = \"https://raw.githubusercontent.com/your-repo/trainforge/main/external-gpu/colab_worker.py\"\n",
        "\n",
        "# For now, let's create the worker script directly\n",
        "worker_script = '''\n",
        "# The colab_worker.py content goes here\n",
        "# (This would be the content from the file we just created)\n",
        "'''\n",
        "\n",
        "# Save worker script\n",
        "with open('colab_worker.py', 'w') as f:\n",
        "    f.write(worker_script)\n",
        "\n",
        "print(\"✅ TrainForge worker downloaded\")"
      ]
    },
    {
      "cell_type": "markdown",
      "metadata": {},
      "source": [
        "## Step 4: Expose Your Local TrainForge API\n",
        "\n",
        "### Option A: Using ngrok (Recommended)\n",
        "\n",
        "1. Install ngrok: https://ngrok.com/download\n",
        "2. Run on your local machine:\n",
        "   ```bash\n",
        "   ngrok http 3000\n",
        "   ```\n",
        "3. Copy the https URL (e.g., `https://abc123.ngrok.io`)\n",
        "\n",
        "### Option B: Using localtunnel\n",
        "\n",
        "1. Install: `npm install -g localtunnel`\n",
        "2. Run: `lt --port 3000`\n",
        "3. Copy the URL provided\n",
        "\n",
        "---"
      ]
    },
    {
      "cell_type": "markdown",
      "metadata": {},
      "source": [
        "## Step 5: Connect to TrainForge"
      ]
    },
    {
      "cell_type": "code",
      "execution_count": null,
      "metadata": {},
      "outputs": [],
      "source": [
        "# Enter your TrainForge API URL here\n",
        "API_URL = input(\"Enter your TrainForge API URL (from ngrok/localtunnel): \")\n",
        "\n",
        "if not API_URL:\n",
        "    print(\"❌ Please enter a valid API URL\")\n",
        "else:\n",
        "    print(f\"📡 API URL set to: {API_URL}\")\n",
        "    \n",
        "    # Test connection\n",
        "    try:\n",
        "        import requests\n",
        "        response = requests.get(f\"{API_URL}/health\")\n",
        "        if response.status_code == 200:\n",
        "            print(\"✅ Successfully connected to TrainForge API\")\n",
        "        else:\n",
        "            print(f\"❌ Failed to connect: HTTP {response.status_code}\")\n",
        "    except Exception as e:\n",
        "        print(f\"❌ Connection failed: {e}\")"
      ]
    },
    {
      "cell_type": "markdown",
      "metadata": {},
      "source": [
        "## Step 6: Start GPU Worker"
      ]
    },
    {
      "cell_type": "code",
      "execution_count": null,
      "metadata": {},
      "outputs": [],
      "source": [
        "# Import and start the worker\n",
        "import sys\n",
        "sys.path.append('/content')\n",
        "\n",
        "from colab_worker import ColabGPUWorker\n",
        "\n",
        "# Create worker\n",
        "worker = ColabGPUWorker(API_URL)\n",
        "\n",
        "print(\"🚀 Starting TrainForge GPU Worker...\")\n",
        "print(\"⚠️ Keep this cell running to maintain the connection\")\n",
        "print(\"⚠️ The worker will stop if you close this tab or the session times out\")\n",
        "print(\"\\n\" + \"=\"*50)\n",
        "\n",
        "# Start worker (this will run indefinitely)\n",
        "try:\n",
        "    worker.start()\n",
        "except KeyboardInterrupt:\n",
        "    print(\"\\n⚠️ Worker stopped by user\")\n",
        "except Exception as e:\n",
        "    print(f\"❌ Worker error: {e}\")"
      ]
    },
    {
      "cell_type": "markdown",
      "metadata": {},
      "source": [
        "## 📊 Monitor Worker Status\n",
        "\n",
        "You can run this cell to check the worker status:"
      ]
    },
    {
      "cell_type": "code",
      "execution_count": null,
      "metadata": {},
      "outputs": [],
      "source": [
        "import requests\n",
        "import json\n",
        "\n",
        "try:\n",
        "    # Check API health\n",
        "    health = requests.get(f\"{API_URL}/health\")\n",
        "    print(f\"API Health: {health.status_code}\")\n",
        "    \n",
        "    # Check workers\n",
        "    workers = requests.get(f\"{API_URL}/api/workers\")\n",
        "    if workers.status_code == 200:\n",
        "        worker_list = workers.json()\n",
        "        print(f\"\\n📊 Active Workers: {len(worker_list)}\")\n",
        "        for w in worker_list:\n",
        "            print(f\"  - {w.get('worker_id', 'Unknown')}: {w.get('status', 'Unknown')}\")\n",
        "    \n",
        "    # Check pending jobs\n",
        "    jobs = requests.get(f\"{API_URL}/api/jobs/pending\")\n",
        "    if jobs.status_code == 200:\n",
        "        job_list = jobs.json()\n",
        "        print(f\"\\n🎯 Pending Jobs: {len(job_list)}\")\n",
        "        for job in job_list:\n",
        "            print(f\"  - {job.get('job_id', 'Unknown')}: {job.get('status', 'Unknown')}\")\n",
        "            \n",
        "except Exception as e:\n",
        "    print(f\"❌ Error checking status: {e}\")"
      ]
    },
    {
      "cell_type": "markdown",
      "metadata": {},
      "source": [
        "## 🎯 Usage Tips\n",
        "\n",
        "1. **Keep the notebook running**: The worker will stop if you close the tab\n",
        "2. **Check connection**: Use the monitor cell to verify connectivity\n",
        "3. **Session limits**: Colab sessions timeout after 12-24 hours\n",
        "4. **GPU types**: You might get T4, V100, or A100 depending on availability\n",
        "5. **Multiple workers**: You can run multiple Colab instances for more GPUs\n",
        "\n",
        "## 🚨 Troubleshooting\n",
        "\n",
        "- **Connection failed**: Check your ngrok/localtunnel URL\n",
        "- **No GPU**: Go to Runtime → Change runtime type → GPU\n",
        "- **Worker not appearing**: Check the API URL and firewall settings\n",
        "- **Jobs not running**: Verify the worker is registered and API is accessible\n",
        "\n",
        "---\n",
        "\n",
        "**Happy Training! 🚀**"
      ]
    }
  ],
  "metadata": {
    "accelerator": "GPU",
    "colab": {
      "gpuType": "T4",
      "machine_shape": "hm",
      "provenance": []
    },
    "kernelspec": {
      "display_name": "Python 3",
      "name": "python3"
    },
    "language_info": {
      "name": "python"
    }
  },
  "nbformat": 4,
  "nbformat_minor": 0
}